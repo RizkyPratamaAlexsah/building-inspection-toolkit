{
  "cells": [
    {
      "cell_type": "markdown",
      "metadata": {
        "id": "jIOScRx54wDV"
      },
      "source": [
        "# Building Inspection Toolkit\n",
        "\n",
        "#### v0.1.6\n"
      ]
    },
    {
      "cell_type": "code",
      "execution_count": 3,
      "metadata": {
        "id": "Omkphjm24oS2"
      },
      "outputs": [
        {
          "name": "stdout",
          "output_type": "stream",
          "text": [
            "Collecting git+https://github.com/phiyodr/building-inspection-toolkit\n",
            "  Cloning https://github.com/phiyodr/building-inspection-toolkit to c:\\users\\pende\\appdata\\local\\temp\\pip-req-build-q2lrlk1m\n",
            "  Resolved https://github.com/phiyodr/building-inspection-toolkit to commit 431b6484ceb8deecb561241f2dc72d10487a7226\n",
            "  Preparing metadata (setup.py): started\n",
            "  Preparing metadata (setup.py): finished with status 'done'\n",
            "Requirement already satisfied: numpy>1.20 in c:\\users\\pende\\anaconda3\\lib\\site-packages (from building-inspection-toolkit==0.3.0) (1.21.5)\n",
            "Requirement already satisfied: requests in c:\\users\\pende\\anaconda3\\lib\\site-packages (from building-inspection-toolkit==0.3.0) (2.27.1)\n",
            "Requirement already satisfied: torch in c:\\users\\pende\\anaconda3\\lib\\site-packages (from building-inspection-toolkit==0.3.0) (2.2.0)\n",
            "Requirement already satisfied: torchvision in c:\\users\\pende\\anaconda3\\lib\\site-packages (from building-inspection-toolkit==0.3.0) (0.17.0)\n",
            "Requirement already satisfied: pandas in c:\\users\\pende\\anaconda3\\lib\\site-packages (from building-inspection-toolkit==0.3.0) (1.4.2)\n",
            "Requirement already satisfied: Pillow in c:\\users\\pende\\anaconda3\\lib\\site-packages (from building-inspection-toolkit==0.3.0) (9.0.1)\n",
            "Requirement already satisfied: patool in c:\\users\\pende\\anaconda3\\lib\\site-packages (from building-inspection-toolkit==0.3.0) (1.15.0)\n",
            "Requirement already satisfied: pathlib in c:\\users\\pende\\anaconda3\\lib\\site-packages (from building-inspection-toolkit==0.3.0) (1.0.1)\n",
            "Requirement already satisfied: tqdm in c:\\users\\pende\\anaconda3\\lib\\site-packages (from building-inspection-toolkit==0.3.0) (4.64.0)\n",
            "Requirement already satisfied: matplotlib in c:\\users\\pende\\anaconda3\\lib\\site-packages (from building-inspection-toolkit==0.3.0) (3.5.1)\n",
            "Requirement already satisfied: opencv-python-headless in c:\\users\\pende\\anaconda3\\lib\\site-packages (from building-inspection-toolkit==0.3.0) (4.9.0.80)\n",
            "Requirement already satisfied: efficientnet_pytorch in c:\\users\\pende\\anaconda3\\lib\\site-packages (from building-inspection-toolkit==0.3.0) (0.7.1)\n",
            "Requirement already satisfied: torchmetrics in c:\\users\\pende\\anaconda3\\lib\\site-packages (from building-inspection-toolkit==0.3.0) (1.3.0.post0)\n",
            "Requirement already satisfied: cycler>=0.10 in c:\\users\\pende\\anaconda3\\lib\\site-packages (from matplotlib->building-inspection-toolkit==0.3.0) (0.11.0)\n",
            "Requirement already satisfied: fonttools>=4.22.0 in c:\\users\\pende\\anaconda3\\lib\\site-packages (from matplotlib->building-inspection-toolkit==0.3.0) (4.25.0)\n",
            "Requirement already satisfied: kiwisolver>=1.0.1 in c:\\users\\pende\\anaconda3\\lib\\site-packages (from matplotlib->building-inspection-toolkit==0.3.0) (1.3.2)\n",
            "Requirement already satisfied: packaging>=20.0 in c:\\users\\pende\\anaconda3\\lib\\site-packages (from matplotlib->building-inspection-toolkit==0.3.0) (21.3)\n",
            "Requirement already satisfied: pyparsing>=2.2.1 in c:\\users\\pende\\anaconda3\\lib\\site-packages (from matplotlib->building-inspection-toolkit==0.3.0) (3.0.4)\n",
            "Requirement already satisfied: python-dateutil>=2.7 in c:\\users\\pende\\anaconda3\\lib\\site-packages (from matplotlib->building-inspection-toolkit==0.3.0) (2.8.2)\n",
            "Requirement already satisfied: pytz>=2020.1 in c:\\users\\pende\\anaconda3\\lib\\site-packages (from pandas->building-inspection-toolkit==0.3.0) (2021.3)\n",
            "Requirement already satisfied: urllib3<1.27,>=1.21.1 in c:\\users\\pende\\anaconda3\\lib\\site-packages (from requests->building-inspection-toolkit==0.3.0) (1.26.9)\n",
            "Requirement already satisfied: certifi>=2017.4.17 in c:\\users\\pende\\anaconda3\\lib\\site-packages (from requests->building-inspection-toolkit==0.3.0) (2021.10.8)\n",
            "Requirement already satisfied: charset-normalizer~=2.0.0 in c:\\users\\pende\\anaconda3\\lib\\site-packages (from requests->building-inspection-toolkit==0.3.0) (2.0.4)\n",
            "Requirement already satisfied: idna<4,>=2.5 in c:\\users\\pende\\anaconda3\\lib\\site-packages (from requests->building-inspection-toolkit==0.3.0) (3.3)\n",
            "Requirement already satisfied: filelock in c:\\users\\pende\\anaconda3\\lib\\site-packages (from torch->building-inspection-toolkit==0.3.0) (3.6.0)\n",
            "Requirement already satisfied: typing-extensions>=4.8.0 in c:\\users\\pende\\anaconda3\\lib\\site-packages (from torch->building-inspection-toolkit==0.3.0) (4.9.0)\n",
            "Requirement already satisfied: sympy in c:\\users\\pende\\anaconda3\\lib\\site-packages (from torch->building-inspection-toolkit==0.3.0) (1.10.1)\n",
            "Requirement already satisfied: networkx in c:\\users\\pende\\anaconda3\\lib\\site-packages (from torch->building-inspection-toolkit==0.3.0) (2.7.1)\n",
            "Requirement already satisfied: jinja2 in c:\\users\\pende\\anaconda3\\lib\\site-packages (from torch->building-inspection-toolkit==0.3.0) (2.11.3)\n",
            "Requirement already satisfied: fsspec in c:\\users\\pende\\anaconda3\\lib\\site-packages (from torch->building-inspection-toolkit==0.3.0) (2022.2.0)\n",
            "Requirement already satisfied: lightning-utilities>=0.8.0 in c:\\users\\pende\\anaconda3\\lib\\site-packages (from torchmetrics->building-inspection-toolkit==0.3.0) (0.10.1)\n",
            "Requirement already satisfied: colorama in c:\\users\\pende\\anaconda3\\lib\\site-packages (from tqdm->building-inspection-toolkit==0.3.0) (0.4.4)\n",
            "Requirement already satisfied: setuptools in c:\\users\\pende\\anaconda3\\lib\\site-packages (from lightning-utilities>=0.8.0->torchmetrics->building-inspection-toolkit==0.3.0) (69.0.3)\n",
            "Requirement already satisfied: six>=1.5 in c:\\users\\pende\\anaconda3\\lib\\site-packages (from python-dateutil>=2.7->matplotlib->building-inspection-toolkit==0.3.0) (1.16.0)\n",
            "Requirement already satisfied: MarkupSafe>=0.23 in c:\\users\\pende\\anaconda3\\lib\\site-packages (from jinja2->torch->building-inspection-toolkit==0.3.0) (2.0.1)\n",
            "Requirement already satisfied: mpmath>=0.19 in c:\\users\\pende\\anaconda3\\lib\\site-packages (from sympy->torch->building-inspection-toolkit==0.3.0) (1.2.1)\n"
          ]
        },
        {
          "name": "stderr",
          "output_type": "stream",
          "text": [
            "  Running command git clone --filter=blob:none --quiet https://github.com/phiyodr/building-inspection-toolkit 'C:\\Users\\pende\\AppData\\Local\\Temp\\pip-req-build-q2lrlk1m'\n"
          ]
        },
        {
          "name": "stdout",
          "output_type": "stream",
          "text": [
            "Requirement already satisfied: patool in c:\\users\\pende\\anaconda3\\lib\\site-packages (1.15.0)\n",
            "Requirement already satisfied: efficientnet-pytorch in c:\\users\\pende\\anaconda3\\lib\\site-packages (0.7.1)\n",
            "Requirement already satisfied: torch in c:\\users\\pende\\anaconda3\\lib\\site-packages (from efficientnet-pytorch) (2.2.0)\n",
            "Requirement already satisfied: filelock in c:\\users\\pende\\anaconda3\\lib\\site-packages (from torch->efficientnet-pytorch) (3.6.0)\n",
            "Requirement already satisfied: typing-extensions>=4.8.0 in c:\\users\\pende\\anaconda3\\lib\\site-packages (from torch->efficientnet-pytorch) (4.9.0)\n",
            "Requirement already satisfied: sympy in c:\\users\\pende\\anaconda3\\lib\\site-packages (from torch->efficientnet-pytorch) (1.10.1)\n",
            "Requirement already satisfied: networkx in c:\\users\\pende\\anaconda3\\lib\\site-packages (from torch->efficientnet-pytorch) (2.7.1)\n",
            "Requirement already satisfied: jinja2 in c:\\users\\pende\\anaconda3\\lib\\site-packages (from torch->efficientnet-pytorch) (2.11.3)\n",
            "Requirement already satisfied: fsspec in c:\\users\\pende\\anaconda3\\lib\\site-packages (from torch->efficientnet-pytorch) (2022.2.0)\n",
            "Requirement already satisfied: MarkupSafe>=0.23 in c:\\users\\pende\\anaconda3\\lib\\site-packages (from jinja2->torch->efficientnet-pytorch) (2.0.1)\n",
            "Requirement already satisfied: mpmath>=0.19 in c:\\users\\pende\\anaconda3\\lib\\site-packages (from sympy->torch->efficientnet-pytorch) (1.2.1)\n",
            "Requirement already satisfied: torchmetrics in c:\\users\\pende\\anaconda3\\lib\\site-packages (1.3.0.post0)\n",
            "Requirement already satisfied: numpy>1.20.0 in c:\\users\\pende\\anaconda3\\lib\\site-packages (from torchmetrics) (1.21.5)\n",
            "Requirement already satisfied: packaging>17.1 in c:\\users\\pende\\anaconda3\\lib\\site-packages (from torchmetrics) (21.3)\n",
            "Requirement already satisfied: torch>=1.10.0 in c:\\users\\pende\\anaconda3\\lib\\site-packages (from torchmetrics) (2.2.0)\n",
            "Requirement already satisfied: lightning-utilities>=0.8.0 in c:\\users\\pende\\anaconda3\\lib\\site-packages (from torchmetrics) (0.10.1)\n",
            "Requirement already satisfied: setuptools in c:\\users\\pende\\anaconda3\\lib\\site-packages (from lightning-utilities>=0.8.0->torchmetrics) (69.0.3)\n",
            "Requirement already satisfied: typing-extensions in c:\\users\\pende\\anaconda3\\lib\\site-packages (from lightning-utilities>=0.8.0->torchmetrics) (4.9.0)\n",
            "Requirement already satisfied: pyparsing!=3.0.5,>=2.0.2 in c:\\users\\pende\\anaconda3\\lib\\site-packages (from packaging>17.1->torchmetrics) (3.0.4)\n",
            "Requirement already satisfied: filelock in c:\\users\\pende\\anaconda3\\lib\\site-packages (from torch>=1.10.0->torchmetrics) (3.6.0)\n",
            "Requirement already satisfied: sympy in c:\\users\\pende\\anaconda3\\lib\\site-packages (from torch>=1.10.0->torchmetrics) (1.10.1)\n",
            "Requirement already satisfied: networkx in c:\\users\\pende\\anaconda3\\lib\\site-packages (from torch>=1.10.0->torchmetrics) (2.7.1)\n",
            "Requirement already satisfied: jinja2 in c:\\users\\pende\\anaconda3\\lib\\site-packages (from torch>=1.10.0->torchmetrics) (2.11.3)\n",
            "Requirement already satisfied: fsspec in c:\\users\\pende\\anaconda3\\lib\\site-packages (from torch>=1.10.0->torchmetrics) (2022.2.0)\n",
            "Requirement already satisfied: MarkupSafe>=0.23 in c:\\users\\pende\\anaconda3\\lib\\site-packages (from jinja2->torch>=1.10.0->torchmetrics) (2.0.1)\n",
            "Requirement already satisfied: mpmath>=0.19 in c:\\users\\pende\\anaconda3\\lib\\site-packages (from sympy->torch>=1.10.0->torchmetrics) (1.2.1)\n",
            "Collecting gdown\n",
            "  Downloading gdown-5.1.0-py3-none-any.whl.metadata (5.7 kB)\n",
            "Requirement already satisfied: beautifulsoup4 in c:\\users\\pende\\anaconda3\\lib\\site-packages (from gdown) (4.11.1)\n",
            "Requirement already satisfied: filelock in c:\\users\\pende\\anaconda3\\lib\\site-packages (from gdown) (3.6.0)\n",
            "Requirement already satisfied: requests[socks] in c:\\users\\pende\\anaconda3\\lib\\site-packages (from gdown) (2.27.1)\n",
            "Requirement already satisfied: tqdm in c:\\users\\pende\\anaconda3\\lib\\site-packages (from gdown) (4.64.0)\n",
            "Requirement already satisfied: soupsieve>1.2 in c:\\users\\pende\\anaconda3\\lib\\site-packages (from beautifulsoup4->gdown) (2.3.1)\n",
            "Requirement already satisfied: urllib3<1.27,>=1.21.1 in c:\\users\\pende\\anaconda3\\lib\\site-packages (from requests[socks]->gdown) (1.26.9)\n",
            "Requirement already satisfied: certifi>=2017.4.17 in c:\\users\\pende\\anaconda3\\lib\\site-packages (from requests[socks]->gdown) (2021.10.8)\n",
            "Requirement already satisfied: charset-normalizer~=2.0.0 in c:\\users\\pende\\anaconda3\\lib\\site-packages (from requests[socks]->gdown) (2.0.4)\n",
            "Requirement already satisfied: idna<4,>=2.5 in c:\\users\\pende\\anaconda3\\lib\\site-packages (from requests[socks]->gdown) (3.3)\n",
            "Requirement already satisfied: PySocks!=1.5.7,>=1.5.6 in c:\\users\\pende\\anaconda3\\lib\\site-packages (from requests[socks]->gdown) (1.7.1)\n",
            "Requirement already satisfied: colorama in c:\\users\\pende\\anaconda3\\lib\\site-packages (from tqdm->gdown) (0.4.4)\n",
            "Downloading gdown-5.1.0-py3-none-any.whl (17 kB)\n",
            "Installing collected packages: gdown\n",
            "Successfully installed gdown-5.1.0\n"
          ]
        }
      ],
      "source": [
        "!pip install git+https://github.com/phiyodr/building-inspection-toolkit\n",
        "!pip install patool\n",
        "!pip install efficientnet-pytorch\n",
        "!pip install torchmetrics\n",
        "\n",
        "# Added command for second code form (error on gdown)\n",
        "!pip install gdown"
      ]
    },
    {
      "cell_type": "markdown",
      "metadata": {
        "id": "4i2LtYpE4_hn"
      },
      "source": [
        "## Data\n",
        "\n",
        "#### List and download data"
      ]
    },
    {
      "cell_type": "code",
      "execution_count": 4,
      "metadata": {
        "colab": {
          "base_uri": "https://localhost:8080/"
        },
        "id": "3GfM2JPw4y1-",
        "outputId": "5d72cdd7-28a3-4197-9fc1-520c2029ab30"
      },
      "outputs": [
        {
          "data": {
            "text/plain": [
              "dict_keys(['codebrim-classif-balanced', 'codebrim-classif', 'mcds_Bukhsh', 'mcds_bikit', 'bcd', 'sdnet', 'sdnet_binary', 'sdnet_bikit', 'sdnet_bikit_binary', 'cds', 'meta2', 'meta3', 'meta4', 'dacl1k', 'meta2+dacl1k', 'meta3+dacl1k', 'meta4+dacl1k'])"
            ]
          },
          "execution_count": 4,
          "metadata": {},
          "output_type": "execute_result"
        }
      ],
      "source": [
        "from bikit.utils import list_datasets, download_dataset\n",
        "\n",
        "# List all datasets\n",
        "all_dataset = list_datasets(verbose=0)\n",
        "all_dataset.keys()"
      ]
    },
    {
      "cell_type": "code",
      "execution_count": 5,
      "metadata": {
        "colab": {
          "base_uri": "https://localhost:8080/"
        },
        "id": "TucvQI6k5CMb",
        "outputId": "3388c9ca-2ad6-4189-f71e-5dbb61360b58"
      },
      "outputs": [
        {
          "name": "stdout",
          "output_type": "stream",
          "text": [
            "The mcds_bikit dataset was published at ['https://www.researchgate.net/publication/332571358_Multi-classifier_for_Reinforced_Concrete_Bridge_Defects']\n",
            " With downloading you accept the licence: https://creativecommons.org/licenses/by/4.0/legalcode\n",
            " More details at https://zenodo.org/record/2601506#.YerW5ITMIUE\n",
            "Create folder C:\\Users\\pende/.cache/bikit\n"
          ]
        },
        {
          "name": "stderr",
          "output_type": "stream",
          "text": [
            "Downloading...\n",
            "From (original): https://drive.google.com/uc?id=1svdZ2-_o4cjifLHYCo8n38_zGklj4q2k\n",
            "From (redirected): https://drive.google.com/uc?id=1svdZ2-_o4cjifLHYCo8n38_zGklj4q2k&confirm=t&uuid=a67230f2-4dd6-4dfe-8d45-ce29ba23b7dc\n",
            "To: C:\\Users\\pende\\.cache\\bikit\\mcds.zip\n",
            "100%|██████████| 1.09G/1.09G [03:11<00:00, 5.67MB/s]\n"
          ]
        },
        {
          "name": "stdout",
          "output_type": "stream",
          "text": [
            "\n",
            "Start to unzip file - unzip done!\n",
            "Removing C:\\Users\\pende/.cache/bikit\\mcds.zip\n"
          ]
        }
      ],
      "source": [
        "# Download data\n",
        "DATASET_NAME = \"mcds_bikit\"\n",
        "download_dataset(DATASET_NAME) "
      ]
    },
    {
      "cell_type": "markdown",
      "metadata": {
        "id": "g-aHP-786B1j"
      },
      "source": [
        "#### Use BikitDataset"
      ]
    },
    {
      "cell_type": "code",
      "execution_count": 6,
      "metadata": {
        "colab": {
          "base_uri": "https://localhost:8080/"
        },
        "id": "-2qiP50E56wI",
        "outputId": "3673f68f-7360-45f5-b243-af0ddb298956"
      },
      "outputs": [
        {
          "name": "stdout",
          "output_type": "stream",
          "text": [
            "0 torch.Size([64, 3, 256, 256]) torch.Size([64, 8])\n"
          ]
        }
      ],
      "source": [
        "from bikit.utils import download_dataset\n",
        "from bikit.datasets import BikitDataset \n",
        "from torch.utils.data import DataLoader\n",
        "from torchvision import transforms\n",
        "\n",
        "# Define transform\n",
        "my_transform = transforms.Compose([transforms.Resize((256,256)), transforms.ToTensor()])\n",
        "\n",
        "# Use return_type 'pt' (default) or 'np'\n",
        "train_dataset = BikitDataset(DATASET_NAME, split=\"train\", transform=my_transform, return_type=\"pt\") \n",
        "train_loader = DataLoader(dataset=train_dataset, batch_size=64, shuffle=False, num_workers=0)\n",
        "\n",
        "# Use it in your training loop\n",
        "for i, (imgs, labels) in enumerate(train_loader):\n",
        "\tprint(i, imgs.shape, labels.shape)\n",
        "\tbreak"
      ]
    },
    {
      "cell_type": "markdown",
      "metadata": {
        "id": "PYrm2h7Q6MY2"
      },
      "source": [
        "## Metrics"
      ]
    },
    {
      "cell_type": "code",
      "execution_count": 22,
      "metadata": {
        "colab": {
          "base_uri": "https://localhost:8080/"
        },
        "id": "_8Sjh7er6I0i",
        "outputId": "587bc95c-a259-4138-f97b-958ed90efbba"
      },
      "outputs": [
        {
          "name": "stdout",
          "output_type": "stream",
          "text": [
            "tensor(0.) tensor(0.6000)\n",
            "tensor(0.1667) tensor(0.6500)\n",
            "EMR_mt() BinaryRecall()\n"
          ]
        }
      ],
      "source": [
        "# Given fix into import method from \"Recalls_mt\" into \"Recall\" only\n",
        "# from bikit.metrics import EMR_mt, Recalls_mt\n",
        "from bikit.metrics import EMR_mt\n",
        "import torch\n",
        "from torchmetrics import Recall\n",
        "\n",
        "myemr = EMR_mt(use_logits=False)\n",
        "# myrecalls = Recalls_mt()\n",
        "\n",
        "# Given fix of \"myrecalls\" variable into the following codes (previous \"myrecalls\" variable will be marked as comment)\n",
        "myrecalls = Recall(num_classes=2, average='micro', task='binary')\n",
        "\n",
        "# fake data\n",
        "preds0  = torch.tensor([[.9, 0.1, 0.9, 0.1, 0.9, 0.1], \n",
        "                       [.8, 0.2, 0.9, 0.2, 0.9, 0.2], \n",
        "                       [.7, 0.9, 0.2 , 0.2, 0.2 , 0.2]])\n",
        "preds1 = torch.tensor([[.0, 0.1, 0.9, 0.1, 0.9, 0.1], \n",
        "                       [.8, 0.2, 0.9, 0.2, 0.9, 0.2], \n",
        "                       [.7, 0.9, 0.2 , 0.9, 0.2 , 0.9]])\n",
        "target = torch.tensor([[1, 0, 1, 0, 0, 1], \n",
        "                      [1, 1, 0, 0, 1, 0], \n",
        "                      [1, 1, 0, 1, 0, 1]])\n",
        "\n",
        "# batch 0\n",
        "myemr(preds0, target), myrecalls(preds0, target)\n",
        "print(myemr.compute(), myrecalls.compute())\n",
        "\n",
        "# batch 1\n",
        "myemr(preds1, target), myrecalls(preds1, target)    \n",
        "print(myemr.compute(), myrecalls.compute())\n",
        "\n",
        "# Reset at end of epoch\n",
        "myemr.reset(), myrecalls.reset()\n",
        "print(myemr, myrecalls)"
      ]
    },
    {
      "cell_type": "markdown",
      "metadata": {
        "id": "D8-oK3-Q6XZ3"
      },
      "source": [
        "# Models"
      ]
    },
    {
      "cell_type": "markdown",
      "metadata": {
        "id": "DY5Tezzv6gQu"
      },
      "source": [
        "#### List models"
      ]
    },
    {
      "cell_type": "code",
      "execution_count": 26,
      "metadata": {},
      "outputs": [],
      "source": [
        "# 1. This code is for clear the cache directory to fix the list models code section \n",
        "# THIS SECTION IS UNNECESSARY TO BE RUN (ONLY NEEDED)\n",
        "################################################################################################################################################################################\n",
        "\n",
        "import os\n",
        "import shutil\n",
        "\n",
        "cache_dir = os.path.expanduser('~/.cache/bikit-models')\n",
        "if os.path.isdir(cache_dir):\n",
        "    shutil.rmtree(cache_dir)"
      ]
    },
    {
      "cell_type": "code",
      "execution_count": 27,
      "metadata": {},
      "outputs": [
        {
          "ename": "HTTPError",
          "evalue": "HTTP Error 404: Not Found",
          "output_type": "error",
          "traceback": [
            "\u001b[1;31m---------------------------------------------------------------------------\u001b[0m",
            "\u001b[1;31mHTTPError\u001b[0m                                 Traceback (most recent call last)",
            "Input \u001b[1;32mIn [27]\u001b[0m, in \u001b[0;36m<cell line: 5>\u001b[1;34m()\u001b[0m\n\u001b[0;32m      1\u001b[0m \u001b[38;5;66;03m# 2. This code is to redownload the metadata file\u001b[39;00m\n\u001b[0;32m      2\u001b[0m \u001b[38;5;66;03m# THIS SECTION IS UNNECESSARY TO BE RUN (ONLY NEEDED)\u001b[39;00m\n\u001b[0;32m      3\u001b[0m \u001b[38;5;28;01mfrom\u001b[39;00m \u001b[38;5;21;01mbikit\u001b[39;00m\u001b[38;5;21;01m.\u001b[39;00m\u001b[38;5;21;01mutils\u001b[39;00m \u001b[38;5;28;01mimport\u001b[39;00m download_metadata\n\u001b[1;32m----> 5\u001b[0m \u001b[43mdownload_metadata\u001b[49m\u001b[43m(\u001b[49m\u001b[43mcache_dir\u001b[49m\u001b[38;5;241;43m=\u001b[39;49m\u001b[38;5;124;43m'\u001b[39;49m\u001b[38;5;124;43m~/.cache/bikit-models\u001b[39;49m\u001b[38;5;124;43m'\u001b[39;49m\u001b[43m,\u001b[49m\u001b[43m \u001b[49m\u001b[43mforce_redownload\u001b[49m\u001b[38;5;241;43m=\u001b[39;49m\u001b[38;5;28;43;01mTrue\u001b[39;49;00m\u001b[43m)\u001b[49m\n",
            "File \u001b[1;32mc:\\Users\\pende\\anaconda3\\lib\\site-packages\\bikit\\utils.py:88\u001b[0m, in \u001b[0;36mdownload_metadata\u001b[1;34m(cache_dir, force_redownload)\u001b[0m\n\u001b[0;32m     86\u001b[0m     \u001b[38;5;28;01mif\u001b[39;00m \u001b[38;5;129;01mnot\u001b[39;00m os\u001b[38;5;241m.\u001b[39mpath\u001b[38;5;241m.\u001b[39misdir(cache_dir):\n\u001b[0;32m     87\u001b[0m         os\u001b[38;5;241m.\u001b[39mmakedirs(cache_dir)\n\u001b[1;32m---> 88\u001b[0m     \u001b[43murlretrieve\u001b[49m\u001b[43m(\u001b[49m\u001b[43mmetadata_url\u001b[49m\u001b[43m,\u001b[49m\u001b[43m \u001b[49m\u001b[43mfilename\u001b[49m\u001b[43m)\u001b[49m\n\u001b[0;32m     89\u001b[0m     \u001b[38;5;28mprint\u001b[39m(\u001b[38;5;124mf\u001b[39m\u001b[38;5;124m\"\u001b[39m\u001b[38;5;124mSuccessfully downloaded metadata.json to \u001b[39m\u001b[38;5;132;01m{\u001b[39;00mfilename\u001b[38;5;132;01m}\u001b[39;00m\u001b[38;5;124m.\u001b[39m\u001b[38;5;124m\"\u001b[39m)\n\u001b[0;32m     90\u001b[0m \u001b[38;5;28;01melse\u001b[39;00m:\n",
            "File \u001b[1;32mc:\\Users\\pende\\anaconda3\\lib\\urllib\\request.py:239\u001b[0m, in \u001b[0;36murlretrieve\u001b[1;34m(url, filename, reporthook, data)\u001b[0m\n\u001b[0;32m    222\u001b[0m \u001b[38;5;124;03m\"\"\"\u001b[39;00m\n\u001b[0;32m    223\u001b[0m \u001b[38;5;124;03mRetrieve a URL into a temporary location on disk.\u001b[39;00m\n\u001b[0;32m    224\u001b[0m \n\u001b[1;32m   (...)\u001b[0m\n\u001b[0;32m    235\u001b[0m \u001b[38;5;124;03mdata file as well as the resulting HTTPMessage object.\u001b[39;00m\n\u001b[0;32m    236\u001b[0m \u001b[38;5;124;03m\"\"\"\u001b[39;00m\n\u001b[0;32m    237\u001b[0m url_type, path \u001b[38;5;241m=\u001b[39m _splittype(url)\n\u001b[1;32m--> 239\u001b[0m \u001b[38;5;28;01mwith\u001b[39;00m contextlib\u001b[38;5;241m.\u001b[39mclosing(\u001b[43murlopen\u001b[49m\u001b[43m(\u001b[49m\u001b[43murl\u001b[49m\u001b[43m,\u001b[49m\u001b[43m \u001b[49m\u001b[43mdata\u001b[49m\u001b[43m)\u001b[49m) \u001b[38;5;28;01mas\u001b[39;00m fp:\n\u001b[0;32m    240\u001b[0m     headers \u001b[38;5;241m=\u001b[39m fp\u001b[38;5;241m.\u001b[39minfo()\n\u001b[0;32m    242\u001b[0m     \u001b[38;5;66;03m# Just return the local path and the \"headers\" for file://\u001b[39;00m\n\u001b[0;32m    243\u001b[0m     \u001b[38;5;66;03m# URLs. No sense in performing a copy unless requested.\u001b[39;00m\n",
            "File \u001b[1;32mc:\\Users\\pende\\anaconda3\\lib\\urllib\\request.py:214\u001b[0m, in \u001b[0;36murlopen\u001b[1;34m(url, data, timeout, cafile, capath, cadefault, context)\u001b[0m\n\u001b[0;32m    212\u001b[0m \u001b[38;5;28;01melse\u001b[39;00m:\n\u001b[0;32m    213\u001b[0m     opener \u001b[38;5;241m=\u001b[39m _opener\n\u001b[1;32m--> 214\u001b[0m \u001b[38;5;28;01mreturn\u001b[39;00m \u001b[43mopener\u001b[49m\u001b[38;5;241;43m.\u001b[39;49m\u001b[43mopen\u001b[49m\u001b[43m(\u001b[49m\u001b[43murl\u001b[49m\u001b[43m,\u001b[49m\u001b[43m \u001b[49m\u001b[43mdata\u001b[49m\u001b[43m,\u001b[49m\u001b[43m \u001b[49m\u001b[43mtimeout\u001b[49m\u001b[43m)\u001b[49m\n",
            "File \u001b[1;32mc:\\Users\\pende\\anaconda3\\lib\\urllib\\request.py:523\u001b[0m, in \u001b[0;36mOpenerDirector.open\u001b[1;34m(self, fullurl, data, timeout)\u001b[0m\n\u001b[0;32m    521\u001b[0m \u001b[38;5;28;01mfor\u001b[39;00m processor \u001b[38;5;129;01min\u001b[39;00m \u001b[38;5;28mself\u001b[39m\u001b[38;5;241m.\u001b[39mprocess_response\u001b[38;5;241m.\u001b[39mget(protocol, []):\n\u001b[0;32m    522\u001b[0m     meth \u001b[38;5;241m=\u001b[39m \u001b[38;5;28mgetattr\u001b[39m(processor, meth_name)\n\u001b[1;32m--> 523\u001b[0m     response \u001b[38;5;241m=\u001b[39m \u001b[43mmeth\u001b[49m\u001b[43m(\u001b[49m\u001b[43mreq\u001b[49m\u001b[43m,\u001b[49m\u001b[43m \u001b[49m\u001b[43mresponse\u001b[49m\u001b[43m)\u001b[49m\n\u001b[0;32m    525\u001b[0m \u001b[38;5;28;01mreturn\u001b[39;00m response\n",
            "File \u001b[1;32mc:\\Users\\pende\\anaconda3\\lib\\urllib\\request.py:632\u001b[0m, in \u001b[0;36mHTTPErrorProcessor.http_response\u001b[1;34m(self, request, response)\u001b[0m\n\u001b[0;32m    629\u001b[0m \u001b[38;5;66;03m# According to RFC 2616, \"2xx\" code indicates that the client's\u001b[39;00m\n\u001b[0;32m    630\u001b[0m \u001b[38;5;66;03m# request was successfully received, understood, and accepted.\u001b[39;00m\n\u001b[0;32m    631\u001b[0m \u001b[38;5;28;01mif\u001b[39;00m \u001b[38;5;129;01mnot\u001b[39;00m (\u001b[38;5;241m200\u001b[39m \u001b[38;5;241m<\u001b[39m\u001b[38;5;241m=\u001b[39m code \u001b[38;5;241m<\u001b[39m \u001b[38;5;241m300\u001b[39m):\n\u001b[1;32m--> 632\u001b[0m     response \u001b[38;5;241m=\u001b[39m \u001b[38;5;28;43mself\u001b[39;49m\u001b[38;5;241;43m.\u001b[39;49m\u001b[43mparent\u001b[49m\u001b[38;5;241;43m.\u001b[39;49m\u001b[43merror\u001b[49m\u001b[43m(\u001b[49m\n\u001b[0;32m    633\u001b[0m \u001b[43m        \u001b[49m\u001b[38;5;124;43m'\u001b[39;49m\u001b[38;5;124;43mhttp\u001b[39;49m\u001b[38;5;124;43m'\u001b[39;49m\u001b[43m,\u001b[49m\u001b[43m \u001b[49m\u001b[43mrequest\u001b[49m\u001b[43m,\u001b[49m\u001b[43m \u001b[49m\u001b[43mresponse\u001b[49m\u001b[43m,\u001b[49m\u001b[43m \u001b[49m\u001b[43mcode\u001b[49m\u001b[43m,\u001b[49m\u001b[43m \u001b[49m\u001b[43mmsg\u001b[49m\u001b[43m,\u001b[49m\u001b[43m \u001b[49m\u001b[43mhdrs\u001b[49m\u001b[43m)\u001b[49m\n\u001b[0;32m    635\u001b[0m \u001b[38;5;28;01mreturn\u001b[39;00m response\n",
            "File \u001b[1;32mc:\\Users\\pende\\anaconda3\\lib\\urllib\\request.py:561\u001b[0m, in \u001b[0;36mOpenerDirector.error\u001b[1;34m(self, proto, *args)\u001b[0m\n\u001b[0;32m    559\u001b[0m \u001b[38;5;28;01mif\u001b[39;00m http_err:\n\u001b[0;32m    560\u001b[0m     args \u001b[38;5;241m=\u001b[39m (\u001b[38;5;28mdict\u001b[39m, \u001b[38;5;124m'\u001b[39m\u001b[38;5;124mdefault\u001b[39m\u001b[38;5;124m'\u001b[39m, \u001b[38;5;124m'\u001b[39m\u001b[38;5;124mhttp_error_default\u001b[39m\u001b[38;5;124m'\u001b[39m) \u001b[38;5;241m+\u001b[39m orig_args\n\u001b[1;32m--> 561\u001b[0m     \u001b[38;5;28;01mreturn\u001b[39;00m \u001b[38;5;28;43mself\u001b[39;49m\u001b[38;5;241;43m.\u001b[39;49m\u001b[43m_call_chain\u001b[49m\u001b[43m(\u001b[49m\u001b[38;5;241;43m*\u001b[39;49m\u001b[43margs\u001b[49m\u001b[43m)\u001b[49m\n",
            "File \u001b[1;32mc:\\Users\\pende\\anaconda3\\lib\\urllib\\request.py:494\u001b[0m, in \u001b[0;36mOpenerDirector._call_chain\u001b[1;34m(self, chain, kind, meth_name, *args)\u001b[0m\n\u001b[0;32m    492\u001b[0m \u001b[38;5;28;01mfor\u001b[39;00m handler \u001b[38;5;129;01min\u001b[39;00m handlers:\n\u001b[0;32m    493\u001b[0m     func \u001b[38;5;241m=\u001b[39m \u001b[38;5;28mgetattr\u001b[39m(handler, meth_name)\n\u001b[1;32m--> 494\u001b[0m     result \u001b[38;5;241m=\u001b[39m \u001b[43mfunc\u001b[49m\u001b[43m(\u001b[49m\u001b[38;5;241;43m*\u001b[39;49m\u001b[43margs\u001b[49m\u001b[43m)\u001b[49m\n\u001b[0;32m    495\u001b[0m     \u001b[38;5;28;01mif\u001b[39;00m result \u001b[38;5;129;01mis\u001b[39;00m \u001b[38;5;129;01mnot\u001b[39;00m \u001b[38;5;28;01mNone\u001b[39;00m:\n\u001b[0;32m    496\u001b[0m         \u001b[38;5;28;01mreturn\u001b[39;00m result\n",
            "File \u001b[1;32mc:\\Users\\pende\\anaconda3\\lib\\urllib\\request.py:641\u001b[0m, in \u001b[0;36mHTTPDefaultErrorHandler.http_error_default\u001b[1;34m(self, req, fp, code, msg, hdrs)\u001b[0m\n\u001b[0;32m    640\u001b[0m \u001b[38;5;28;01mdef\u001b[39;00m \u001b[38;5;21mhttp_error_default\u001b[39m(\u001b[38;5;28mself\u001b[39m, req, fp, code, msg, hdrs):\n\u001b[1;32m--> 641\u001b[0m     \u001b[38;5;28;01mraise\u001b[39;00m HTTPError(req\u001b[38;5;241m.\u001b[39mfull_url, code, msg, hdrs, fp)\n",
            "\u001b[1;31mHTTPError\u001b[0m: HTTP Error 404: Not Found"
          ]
        }
      ],
      "source": [
        "# 2. This code is to redownload the metadata file\n",
        "# THIS SECTION IS UNNECESSARY TO BE RUN (ONLY NEEDED)\n",
        "################################################################################################################################################################################\n",
        "\n",
        "from bikit.utils import download_metadata\n",
        "\n",
        "download_metadata(cache_dir='~/.cache/bikit-models', force_redownload=True)"
      ]
    },
    {
      "cell_type": "code",
      "execution_count": 29,
      "metadata": {},
      "outputs": [
        {
          "name": "stdout",
          "output_type": "stream",
          "text": [
            "dict_keys(['codebrim-classif-balanced', 'codebrim-classif', 'mcds_Bukhsh', 'mcds_bikit', 'bcd', 'sdnet', 'sdnet_binary', 'sdnet_bikit', 'sdnet_bikit_binary', 'cds', 'meta2', 'meta3', 'meta4', 'dacl1k', 'meta2+dacl1k', 'meta3+dacl1k', 'meta4+dacl1k'])\n"
          ]
        }
      ],
      "source": [
        "# This section is made as a response to the missing \"metadata.json\" file in bikit/data/metadata.json.\n",
        "# THIS SECTION IS UNNECESSARY AS LONG AS THE METADATA IS AVAILABLE.\n",
        "################################################################################################################################################################################\n",
        "\n",
        "from bikit.utils import list_datasets\n",
        "\n",
        "# List all datasets\n",
        "all_datasets = list_datasets(verbose=0)\n",
        "print(all_datasets.keys())"
      ]
    },
    {
      "cell_type": "code",
      "execution_count": null,
      "metadata": {
        "colab": {
          "base_uri": "https://localhost:8080/"
        },
        "id": "uso4bnd06WMP",
        "outputId": "0c59ec78-3340-4308-f337-42ee0a99ff13"
      },
      "outputs": [],
      "source": [
        "# this code has a problem with metadata file not found in server. So, we added a few sections before this section to:\n",
        "# 1. Clear the cache directory\n",
        "# 2. Redownload the metadata file\n",
        "# 3. and Rerun the original \"List Models\" code again.\n",
        "\n",
        "# Since the 'metadata.json' file isn't found in the bikit directory (bikit/data/metadata.json), we try to replace the models' metadata file with datasets.json as datasets.\n",
        "# Since then, we will make another section below which replaces the targeted code with the datasets.json path.\n",
        "################################################################################################################################################################################\n",
        "\n",
        "from bikit.utils import list_models\n",
        "\n",
        "# List all models\n",
        "all_models = list_models(verbose=0)\n",
        "print(all_models.keys())"
      ]
    },
    {
      "cell_type": "markdown",
      "metadata": {
        "id": "ef09lBif6eNX"
      },
      "source": [
        "#### Model Inference"
      ]
    },
    {
      "cell_type": "code",
      "execution_count": 30,
      "metadata": {
        "colab": {
          "base_uri": "https://localhost:8080/",
          "height": 425
        },
        "id": "C_kzJlFU6bvq",
        "outputId": "dc5e7f24-658e-41c8-9b51-0a9db933e74e"
      },
      "outputs": [
        {
          "ename": "HTTPError",
          "evalue": "HTTP Error 404: Not Found",
          "output_type": "error",
          "traceback": [
            "\u001b[1;31m---------------------------------------------------------------------------\u001b[0m",
            "\u001b[1;31mHTTPError\u001b[0m                                 Traceback (most recent call last)",
            "Input \u001b[1;32mIn [30]\u001b[0m, in \u001b[0;36m<cell line: 6>\u001b[1;34m()\u001b[0m\n\u001b[0;32m      3\u001b[0m \u001b[38;5;28;01mfrom\u001b[39;00m \u001b[38;5;21;01mmatplotlib\u001b[39;00m \u001b[38;5;28;01mimport\u001b[39;00m pyplot \u001b[38;5;28;01mas\u001b[39;00m plt \n\u001b[0;32m      5\u001b[0m \u001b[38;5;66;03m# Download and load model\u001b[39;00m\n\u001b[1;32m----> 6\u001b[0m model, metadata \u001b[38;5;241m=\u001b[39m \u001b[43mload_model\u001b[49m\u001b[43m(\u001b[49m\u001b[38;5;124;43m\"\u001b[39;49m\u001b[38;5;124;43mMCDSbikit_ResNet50_dhb\u001b[39;49m\u001b[38;5;124;43m\"\u001b[39;49m\u001b[43m,\u001b[49m\u001b[43m \u001b[49m\u001b[43madd_metadata\u001b[49m\u001b[38;5;241;43m=\u001b[39;49m\u001b[38;5;28;43;01mTrue\u001b[39;49;00m\u001b[43m)\u001b[49m\n\u001b[0;32m      8\u001b[0m img \u001b[38;5;241m=\u001b[39m load_img_from_url(\u001b[38;5;124m\"\u001b[39m\u001b[38;5;124mhttps://github.com/phiyodr/building-inspection-toolkit/raw/master/bikit/data/11_001990.jpg\u001b[39m\u001b[38;5;124m\"\u001b[39m)\n\u001b[0;32m      9\u001b[0m plt\u001b[38;5;241m.\u001b[39mimshow(np\u001b[38;5;241m.\u001b[39masarray(img))\n",
            "File \u001b[1;32mc:\\Users\\pende\\anaconda3\\lib\\site-packages\\bikit\\utils.py:110\u001b[0m, in \u001b[0;36mload_model\u001b[1;34m(name, add_metadata, cache_dir, force_redownload)\u001b[0m\n\u001b[0;32m    107\u001b[0m \u001b[38;5;28;01mdef\u001b[39;00m \u001b[38;5;21mload_model\u001b[39m(name, add_metadata\u001b[38;5;241m=\u001b[39m\u001b[38;5;28;01mTrue\u001b[39;00m, cache_dir\u001b[38;5;241m=\u001b[39m\u001b[38;5;124m\"\u001b[39m\u001b[38;5;124m~/.cache/bikit-models\u001b[39m\u001b[38;5;124m\"\u001b[39m, force_redownload\u001b[38;5;241m=\u001b[39m\u001b[38;5;28;01mFalse\u001b[39;00m):\n\u001b[0;32m    108\u001b[0m     \u001b[38;5;28;01mfrom\u001b[39;00m \u001b[38;5;21;01m.\u001b[39;00m\u001b[38;5;21;01mmodels\u001b[39;00m \u001b[38;5;28;01mimport\u001b[39;00m DaclNet\n\u001b[1;32m--> 110\u001b[0m     models_metadata \u001b[38;5;241m=\u001b[39m \u001b[43mget_metadata\u001b[49m\u001b[43m(\u001b[49m\u001b[43mcache_dir\u001b[49m\u001b[43m,\u001b[49m\u001b[43m \u001b[49m\u001b[43mforce_redownload\u001b[49m\u001b[43m)\u001b[49m\n\u001b[0;32m    111\u001b[0m     all_model_names \u001b[38;5;241m=\u001b[39m \u001b[38;5;28mlist\u001b[39m(models_metadata\u001b[38;5;241m.\u001b[39mkeys())\n\u001b[0;32m    112\u001b[0m     \u001b[38;5;28;01massert\u001b[39;00m name \u001b[38;5;129;01min\u001b[39;00m all_model_names, \u001b[38;5;124mf\u001b[39m\u001b[38;5;124m\"\u001b[39m\u001b[38;5;124mPlease specify a valid model <name> out of \u001b[39m\u001b[38;5;132;01m{\u001b[39;00mall_model_names\u001b[38;5;132;01m}\u001b[39;00m\u001b[38;5;124m. You used \u001b[39m\u001b[38;5;132;01m{\u001b[39;00mname\u001b[38;5;132;01m}\u001b[39;00m\u001b[38;5;124m.\u001b[39m\u001b[38;5;124m\"\u001b[39m\n",
            "File \u001b[1;32mc:\\Users\\pende\\anaconda3\\lib\\site-packages\\bikit\\utils.py:104\u001b[0m, in \u001b[0;36mget_metadata\u001b[1;34m(cache_dir, force_redownload)\u001b[0m\n\u001b[0;32m    102\u001b[0m filename \u001b[38;5;241m=\u001b[39m os\u001b[38;5;241m.\u001b[39mpath\u001b[38;5;241m.\u001b[39mjoin(os\u001b[38;5;241m.\u001b[39mpath\u001b[38;5;241m.\u001b[39mexpanduser(cache_dir), \u001b[38;5;124m\"\u001b[39m\u001b[38;5;124mmetadata.json\u001b[39m\u001b[38;5;124m\"\u001b[39m)\n\u001b[0;32m    103\u001b[0m \u001b[38;5;28;01mif\u001b[39;00m \u001b[38;5;129;01mnot\u001b[39;00m os\u001b[38;5;241m.\u001b[39mpath\u001b[38;5;241m.\u001b[39misfile(filename) \u001b[38;5;129;01mor\u001b[39;00m force_redownload:\n\u001b[1;32m--> 104\u001b[0m     _ \u001b[38;5;241m=\u001b[39m \u001b[43mdownload_metadata\u001b[49m\u001b[43m(\u001b[49m\u001b[43mcache_dir\u001b[49m\u001b[43m,\u001b[49m\u001b[43m \u001b[49m\u001b[43mforce_redownload\u001b[49m\u001b[43m)\u001b[49m\n\u001b[0;32m    105\u001b[0m \u001b[38;5;28;01mreturn\u001b[39;00m read_metadata(cache_dir)\n",
            "File \u001b[1;32mc:\\Users\\pende\\anaconda3\\lib\\site-packages\\bikit\\utils.py:88\u001b[0m, in \u001b[0;36mdownload_metadata\u001b[1;34m(cache_dir, force_redownload)\u001b[0m\n\u001b[0;32m     86\u001b[0m     \u001b[38;5;28;01mif\u001b[39;00m \u001b[38;5;129;01mnot\u001b[39;00m os\u001b[38;5;241m.\u001b[39mpath\u001b[38;5;241m.\u001b[39misdir(cache_dir):\n\u001b[0;32m     87\u001b[0m         os\u001b[38;5;241m.\u001b[39mmakedirs(cache_dir)\n\u001b[1;32m---> 88\u001b[0m     \u001b[43murlretrieve\u001b[49m\u001b[43m(\u001b[49m\u001b[43mmetadata_url\u001b[49m\u001b[43m,\u001b[49m\u001b[43m \u001b[49m\u001b[43mfilename\u001b[49m\u001b[43m)\u001b[49m\n\u001b[0;32m     89\u001b[0m     \u001b[38;5;28mprint\u001b[39m(\u001b[38;5;124mf\u001b[39m\u001b[38;5;124m\"\u001b[39m\u001b[38;5;124mSuccessfully downloaded metadata.json to \u001b[39m\u001b[38;5;132;01m{\u001b[39;00mfilename\u001b[38;5;132;01m}\u001b[39;00m\u001b[38;5;124m.\u001b[39m\u001b[38;5;124m\"\u001b[39m)\n\u001b[0;32m     90\u001b[0m \u001b[38;5;28;01melse\u001b[39;00m:\n",
            "File \u001b[1;32mc:\\Users\\pende\\anaconda3\\lib\\urllib\\request.py:239\u001b[0m, in \u001b[0;36murlretrieve\u001b[1;34m(url, filename, reporthook, data)\u001b[0m\n\u001b[0;32m    222\u001b[0m \u001b[38;5;124;03m\"\"\"\u001b[39;00m\n\u001b[0;32m    223\u001b[0m \u001b[38;5;124;03mRetrieve a URL into a temporary location on disk.\u001b[39;00m\n\u001b[0;32m    224\u001b[0m \n\u001b[1;32m   (...)\u001b[0m\n\u001b[0;32m    235\u001b[0m \u001b[38;5;124;03mdata file as well as the resulting HTTPMessage object.\u001b[39;00m\n\u001b[0;32m    236\u001b[0m \u001b[38;5;124;03m\"\"\"\u001b[39;00m\n\u001b[0;32m    237\u001b[0m url_type, path \u001b[38;5;241m=\u001b[39m _splittype(url)\n\u001b[1;32m--> 239\u001b[0m \u001b[38;5;28;01mwith\u001b[39;00m contextlib\u001b[38;5;241m.\u001b[39mclosing(\u001b[43murlopen\u001b[49m\u001b[43m(\u001b[49m\u001b[43murl\u001b[49m\u001b[43m,\u001b[49m\u001b[43m \u001b[49m\u001b[43mdata\u001b[49m\u001b[43m)\u001b[49m) \u001b[38;5;28;01mas\u001b[39;00m fp:\n\u001b[0;32m    240\u001b[0m     headers \u001b[38;5;241m=\u001b[39m fp\u001b[38;5;241m.\u001b[39minfo()\n\u001b[0;32m    242\u001b[0m     \u001b[38;5;66;03m# Just return the local path and the \"headers\" for file://\u001b[39;00m\n\u001b[0;32m    243\u001b[0m     \u001b[38;5;66;03m# URLs. No sense in performing a copy unless requested.\u001b[39;00m\n",
            "File \u001b[1;32mc:\\Users\\pende\\anaconda3\\lib\\urllib\\request.py:214\u001b[0m, in \u001b[0;36murlopen\u001b[1;34m(url, data, timeout, cafile, capath, cadefault, context)\u001b[0m\n\u001b[0;32m    212\u001b[0m \u001b[38;5;28;01melse\u001b[39;00m:\n\u001b[0;32m    213\u001b[0m     opener \u001b[38;5;241m=\u001b[39m _opener\n\u001b[1;32m--> 214\u001b[0m \u001b[38;5;28;01mreturn\u001b[39;00m \u001b[43mopener\u001b[49m\u001b[38;5;241;43m.\u001b[39;49m\u001b[43mopen\u001b[49m\u001b[43m(\u001b[49m\u001b[43murl\u001b[49m\u001b[43m,\u001b[49m\u001b[43m \u001b[49m\u001b[43mdata\u001b[49m\u001b[43m,\u001b[49m\u001b[43m \u001b[49m\u001b[43mtimeout\u001b[49m\u001b[43m)\u001b[49m\n",
            "File \u001b[1;32mc:\\Users\\pende\\anaconda3\\lib\\urllib\\request.py:523\u001b[0m, in \u001b[0;36mOpenerDirector.open\u001b[1;34m(self, fullurl, data, timeout)\u001b[0m\n\u001b[0;32m    521\u001b[0m \u001b[38;5;28;01mfor\u001b[39;00m processor \u001b[38;5;129;01min\u001b[39;00m \u001b[38;5;28mself\u001b[39m\u001b[38;5;241m.\u001b[39mprocess_response\u001b[38;5;241m.\u001b[39mget(protocol, []):\n\u001b[0;32m    522\u001b[0m     meth \u001b[38;5;241m=\u001b[39m \u001b[38;5;28mgetattr\u001b[39m(processor, meth_name)\n\u001b[1;32m--> 523\u001b[0m     response \u001b[38;5;241m=\u001b[39m \u001b[43mmeth\u001b[49m\u001b[43m(\u001b[49m\u001b[43mreq\u001b[49m\u001b[43m,\u001b[49m\u001b[43m \u001b[49m\u001b[43mresponse\u001b[49m\u001b[43m)\u001b[49m\n\u001b[0;32m    525\u001b[0m \u001b[38;5;28;01mreturn\u001b[39;00m response\n",
            "File \u001b[1;32mc:\\Users\\pende\\anaconda3\\lib\\urllib\\request.py:632\u001b[0m, in \u001b[0;36mHTTPErrorProcessor.http_response\u001b[1;34m(self, request, response)\u001b[0m\n\u001b[0;32m    629\u001b[0m \u001b[38;5;66;03m# According to RFC 2616, \"2xx\" code indicates that the client's\u001b[39;00m\n\u001b[0;32m    630\u001b[0m \u001b[38;5;66;03m# request was successfully received, understood, and accepted.\u001b[39;00m\n\u001b[0;32m    631\u001b[0m \u001b[38;5;28;01mif\u001b[39;00m \u001b[38;5;129;01mnot\u001b[39;00m (\u001b[38;5;241m200\u001b[39m \u001b[38;5;241m<\u001b[39m\u001b[38;5;241m=\u001b[39m code \u001b[38;5;241m<\u001b[39m \u001b[38;5;241m300\u001b[39m):\n\u001b[1;32m--> 632\u001b[0m     response \u001b[38;5;241m=\u001b[39m \u001b[38;5;28;43mself\u001b[39;49m\u001b[38;5;241;43m.\u001b[39;49m\u001b[43mparent\u001b[49m\u001b[38;5;241;43m.\u001b[39;49m\u001b[43merror\u001b[49m\u001b[43m(\u001b[49m\n\u001b[0;32m    633\u001b[0m \u001b[43m        \u001b[49m\u001b[38;5;124;43m'\u001b[39;49m\u001b[38;5;124;43mhttp\u001b[39;49m\u001b[38;5;124;43m'\u001b[39;49m\u001b[43m,\u001b[49m\u001b[43m \u001b[49m\u001b[43mrequest\u001b[49m\u001b[43m,\u001b[49m\u001b[43m \u001b[49m\u001b[43mresponse\u001b[49m\u001b[43m,\u001b[49m\u001b[43m \u001b[49m\u001b[43mcode\u001b[49m\u001b[43m,\u001b[49m\u001b[43m \u001b[49m\u001b[43mmsg\u001b[49m\u001b[43m,\u001b[49m\u001b[43m \u001b[49m\u001b[43mhdrs\u001b[49m\u001b[43m)\u001b[49m\n\u001b[0;32m    635\u001b[0m \u001b[38;5;28;01mreturn\u001b[39;00m response\n",
            "File \u001b[1;32mc:\\Users\\pende\\anaconda3\\lib\\urllib\\request.py:561\u001b[0m, in \u001b[0;36mOpenerDirector.error\u001b[1;34m(self, proto, *args)\u001b[0m\n\u001b[0;32m    559\u001b[0m \u001b[38;5;28;01mif\u001b[39;00m http_err:\n\u001b[0;32m    560\u001b[0m     args \u001b[38;5;241m=\u001b[39m (\u001b[38;5;28mdict\u001b[39m, \u001b[38;5;124m'\u001b[39m\u001b[38;5;124mdefault\u001b[39m\u001b[38;5;124m'\u001b[39m, \u001b[38;5;124m'\u001b[39m\u001b[38;5;124mhttp_error_default\u001b[39m\u001b[38;5;124m'\u001b[39m) \u001b[38;5;241m+\u001b[39m orig_args\n\u001b[1;32m--> 561\u001b[0m     \u001b[38;5;28;01mreturn\u001b[39;00m \u001b[38;5;28;43mself\u001b[39;49m\u001b[38;5;241;43m.\u001b[39;49m\u001b[43m_call_chain\u001b[49m\u001b[43m(\u001b[49m\u001b[38;5;241;43m*\u001b[39;49m\u001b[43margs\u001b[49m\u001b[43m)\u001b[49m\n",
            "File \u001b[1;32mc:\\Users\\pende\\anaconda3\\lib\\urllib\\request.py:494\u001b[0m, in \u001b[0;36mOpenerDirector._call_chain\u001b[1;34m(self, chain, kind, meth_name, *args)\u001b[0m\n\u001b[0;32m    492\u001b[0m \u001b[38;5;28;01mfor\u001b[39;00m handler \u001b[38;5;129;01min\u001b[39;00m handlers:\n\u001b[0;32m    493\u001b[0m     func \u001b[38;5;241m=\u001b[39m \u001b[38;5;28mgetattr\u001b[39m(handler, meth_name)\n\u001b[1;32m--> 494\u001b[0m     result \u001b[38;5;241m=\u001b[39m \u001b[43mfunc\u001b[49m\u001b[43m(\u001b[49m\u001b[38;5;241;43m*\u001b[39;49m\u001b[43margs\u001b[49m\u001b[43m)\u001b[49m\n\u001b[0;32m    495\u001b[0m     \u001b[38;5;28;01mif\u001b[39;00m result \u001b[38;5;129;01mis\u001b[39;00m \u001b[38;5;129;01mnot\u001b[39;00m \u001b[38;5;28;01mNone\u001b[39;00m:\n\u001b[0;32m    496\u001b[0m         \u001b[38;5;28;01mreturn\u001b[39;00m result\n",
            "File \u001b[1;32mc:\\Users\\pende\\anaconda3\\lib\\urllib\\request.py:641\u001b[0m, in \u001b[0;36mHTTPDefaultErrorHandler.http_error_default\u001b[1;34m(self, req, fp, code, msg, hdrs)\u001b[0m\n\u001b[0;32m    640\u001b[0m \u001b[38;5;28;01mdef\u001b[39;00m \u001b[38;5;21mhttp_error_default\u001b[39m(\u001b[38;5;28mself\u001b[39m, req, fp, code, msg, hdrs):\n\u001b[1;32m--> 641\u001b[0m     \u001b[38;5;28;01mraise\u001b[39;00m HTTPError(req\u001b[38;5;241m.\u001b[39mfull_url, code, msg, hdrs, fp)\n",
            "\u001b[1;31mHTTPError\u001b[0m: HTTP Error 404: Not Found"
          ]
        }
      ],
      "source": [
        "from bikit.utils import load_model, get_metadata, load_img_from_url\n",
        "from bikit.models import make_prediction\n",
        "from matplotlib import pyplot as plt \n",
        "\n",
        "# Download and load model\n",
        "model, metadata = load_model(\"MCDSbikit_ResNet50_dhb\", add_metadata=True)\n",
        "\n",
        "img = load_img_from_url(\"https://github.com/phiyodr/building-inspection-toolkit/raw/master/bikit/data/11_001990.jpg\")\n",
        "plt.imshow(np.asarray(img))\n",
        "prob, pred = make_prediction(model, img, metadata, print_predictions=True, preprocess_image=True)"
      ]
    }
  ],
  "metadata": {
    "colab": {
      "collapsed_sections": [],
      "provenance": []
    },
    "kernelspec": {
      "display_name": "Python 3",
      "name": "python3"
    },
    "language_info": {
      "codemirror_mode": {
        "name": "ipython",
        "version": 3
      },
      "file_extension": ".py",
      "mimetype": "text/x-python",
      "name": "python",
      "nbconvert_exporter": "python",
      "pygments_lexer": "ipython3",
      "version": "3.9.12"
    }
  },
  "nbformat": 4,
  "nbformat_minor": 0
}
